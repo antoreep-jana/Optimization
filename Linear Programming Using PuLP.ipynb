{
 "cells": [
  {
   "cell_type": "markdown",
   "metadata": {},
   "source": [
    "# Linear Programming"
   ]
  },
  {
   "cell_type": "markdown",
   "metadata": {},
   "source": [
    "<br>"
   ]
  },
  {
   "cell_type": "markdown",
   "metadata": {},
   "source": [
    "### What is Linear Programming ?"
   ]
  },
  {
   "cell_type": "markdown",
   "metadata": {},
   "source": [
    "Linear Programming is a method to achieve the __best possible outcome__ for a mathematical model designed for a particular system. "
   ]
  },
  {
   "cell_type": "markdown",
   "metadata": {},
   "source": [
    "### When do we use Linear Programming ?"
   ]
  },
  {
   "cell_type": "markdown",
   "metadata": {},
   "source": [
    "This is a mathematical __optimization__ technique that is used for effective resource allocation and is specially found useful in industrial production systems.\n",
    "\n",
    "##### What is Optimization ?\n",
    "The selection of a best element/decision (with regard to some criteria) from some set of available alternatives."
   ]
  },
  {
   "cell_type": "markdown",
   "metadata": {},
   "source": [
    "## General form of a mathematical model"
   ]
  },
  {
   "cell_type": "markdown",
   "metadata": {},
   "source": [
    "min or max &nbsp;&nbsp;&nbsp;&nbsp;f(x1,x2,....,xn)    --> Objective function\n",
    "        \n",
    "which is subject to &nbsp;&nbsp;&nbsp;&nbsp;g(x1,x2,......,xn) >=0  &nbsp;&nbsp;&nbsp;&nbsp;  (functional constraints)<br>\n",
    "x1,x2,.....,xn ∈ S   &nbsp;&nbsp;&nbsp;&nbsp;         (Set constraints)\n",
    "        \n",
    "here x1,x2,......,xn are decision variables\n",
    "       \n",
    "The goal is find x1,x2,.....,xn such that<br>\n",
    " <ul>\n",
    " <li>They satisfy the constraints <br>\n",
    " <li>They achieve the min or max objective function value<br>\n",
    " </ul>   "
   ]
  },
  {
   "cell_type": "markdown",
   "metadata": {},
   "source": [
    "#### Python Interface Used for Optimization\n",
    "\n",
    "__PuLP__ : It is a software which is widely used for LP models"
   ]
  },
  {
   "cell_type": "markdown",
   "metadata": {},
   "source": [
    "<br>"
   ]
  },
  {
   "cell_type": "markdown",
   "metadata": {},
   "source": [
    "### Applications of Optimization\n",
    "\n",
    "a) Scheduling of Trains/Buses <br>\n",
    "b) Transportation Network Design <br>\n",
    "c) Supply Chain Optimization <br>\n",
    "d) Optimum circuit design of PCB <br>\n",
    "e) Design optimization of various mechanical components <br>\n",
    "f) Search Engine Optimization <br>\n",
    "g) Production Planning and Scheduling <br>"
   ]
  },
  {
   "cell_type": "markdown",
   "metadata": {},
   "source": [
    "<br>"
   ]
  },
  {
   "cell_type": "markdown",
   "metadata": {},
   "source": [
    "For instance consider the __situation__ given below :"
   ]
  },
  {
   "cell_type": "markdown",
   "metadata": {},
   "source": [
    "A car company produces 2 models, model A and model B. Long-term projections indicate an expected demand of at least 100 model A cars and 80 model B cars each day. Because of limitations on production capacity, no more than 200 model A cars and 170 model B cars can be made daily. To satisfy a shipping contract, a total of at least 200 cars much be shipped each day. If each model A car sold results in a \\$2000 loss, but each model B car produces a \\$5000 profit, __how many of each type should be made daily to maximize net profits__?"
   ]
  },
  {
   "cell_type": "markdown",
   "metadata": {},
   "source": [
    "<br>"
   ]
  },
  {
   "cell_type": "markdown",
   "metadata": {},
   "source": [
    "## Mathematical Analysis"
   ]
  },
  {
   "cell_type": "markdown",
   "metadata": {},
   "source": [
    "<br>"
   ]
  },
  {
   "cell_type": "markdown",
   "metadata": {},
   "source": [
    "__Decision Variables__ : -<br> \n",
    "    x1 = Model A Car<br>\n",
    "    x2 = Model B Car<br>\n",
    "    <br>\n",
    "Objective Function : Maximize the net profits <br>\n",
    "<br>\n",
    "&nbsp;&nbsp;&nbsp;&nbsp; _Maximize_  &nbsp;&nbsp;&nbsp;&nbsp; Z = 5000\\*x2 - 2000\\*x1"
   ]
  },
  {
   "cell_type": "markdown",
   "metadata": {},
   "source": [
    "Constraints : <br>\n",
    "&nbsp;&nbsp;&nbsp;&nbsp; <br>\n",
    "&nbsp;&nbsp;&nbsp;&nbsp;  x1 + x2 >= 200  &nbsp;&nbsp;&nbsp;&nbsp; ...... (i)<br><br> \n",
    "&nbsp;&nbsp;&nbsp;&nbsp;  100<=x1<=200  &nbsp;&nbsp;&nbsp;&nbsp; ...... (ii)<br><br>\n",
    "&nbsp;&nbsp;&nbsp;&nbsp;  80<=x2<=170  &nbsp;&nbsp;&nbsp;&nbsp; ...... (iii)<br><br>"
   ]
  },
  {
   "cell_type": "markdown",
   "metadata": {},
   "source": [
    "## Implementation"
   ]
  },
  {
   "cell_type": "code",
   "execution_count": 1,
   "metadata": {},
   "outputs": [],
   "source": [
    "from pulp import *"
   ]
  },
  {
   "cell_type": "code",
   "execution_count": 2,
   "metadata": {},
   "outputs": [],
   "source": [
    "prob = LpProblem(\"Car Company\",LpMaximize)"
   ]
  },
  {
   "cell_type": "code",
   "execution_count": 3,
   "metadata": {},
   "outputs": [],
   "source": [
    "# creating 2 variables with lower limit 100 and upper limit 200"
   ]
  },
  {
   "cell_type": "code",
   "execution_count": 4,
   "metadata": {},
   "outputs": [],
   "source": [
    "x1 = LpVariable(\"x1\",100,200,LpContinuous)\n",
    "x2 = LpVariable(\"x2\",80,170,LpContinuous)"
   ]
  },
  {
   "cell_type": "code",
   "execution_count": 5,
   "metadata": {},
   "outputs": [],
   "source": [
    "#Adding objective function to the prob\n",
    "prob += 5000*x2 - 2000*x1"
   ]
  },
  {
   "cell_type": "code",
   "execution_count": 6,
   "metadata": {},
   "outputs": [],
   "source": [
    "#adding constraint"
   ]
  },
  {
   "cell_type": "code",
   "execution_count": 7,
   "metadata": {},
   "outputs": [],
   "source": [
    "prob += x1 + x2 >=200"
   ]
  },
  {
   "cell_type": "code",
   "execution_count": 8,
   "metadata": {},
   "outputs": [
    {
     "data": {
      "text/plain": [
       "1"
      ]
     },
     "execution_count": 8,
     "metadata": {},
     "output_type": "execute_result"
    }
   ],
   "source": [
    "prob.solve()"
   ]
  },
  {
   "cell_type": "code",
   "execution_count": 9,
   "metadata": {},
   "outputs": [
    {
     "name": "stdout",
     "output_type": "stream",
     "text": [
      "\n",
      " Status Optimal \n",
      "\n"
     ]
    }
   ],
   "source": [
    "print(\"\\n\",\"Status\",LpStatus[prob.status],\"\\n\")"
   ]
  },
  {
   "cell_type": "code",
   "execution_count": 10,
   "metadata": {},
   "outputs": [
    {
     "name": "stdout",
     "output_type": "stream",
     "text": [
      "Maximum possible Profit :  $ 650000.0\n"
     ]
    }
   ],
   "source": [
    "print (\"Maximum possible Profit : \", \"$\", value(prob.objective))"
   ]
  },
  {
   "cell_type": "code",
   "execution_count": 11,
   "metadata": {},
   "outputs": [
    {
     "name": "stdout",
     "output_type": "stream",
     "text": [
      "\t x1 - 100.0 \n",
      "\n",
      "\t x2 - 170.0 \n",
      "\n"
     ]
    }
   ],
   "source": [
    "for v in prob.variables():\n",
    "    print(\"\\t\", v.name, \"-\", v.varValue, \"\\n\")"
   ]
  },
  {
   "cell_type": "code",
   "execution_count": null,
   "metadata": {},
   "outputs": [],
   "source": []
  }
 ],
 "metadata": {
  "kernelspec": {
   "display_name": "Python 3",
   "language": "python",
   "name": "python3"
  },
  "language_info": {
   "codemirror_mode": {
    "name": "ipython",
    "version": 3
   },
   "file_extension": ".py",
   "mimetype": "text/x-python",
   "name": "python",
   "nbconvert_exporter": "python",
   "pygments_lexer": "ipython3",
   "version": "3.6.5"
  }
 },
 "nbformat": 4,
 "nbformat_minor": 2
}
